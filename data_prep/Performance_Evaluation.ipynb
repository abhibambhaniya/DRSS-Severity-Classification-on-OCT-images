{
  "nbformat": 4,
  "nbformat_minor": 0,
  "metadata": {
    "colab": {
      "provenance": []
    },
    "kernelspec": {
      "name": "python3",
      "display_name": "Python 3"
    },
    "language_info": {
      "name": "python"
    },
    "accelerator": "GPU",
    "gpuClass": "standard"
  },
  "cells": [
    {
      "cell_type": "code",
      "execution_count": 23,
      "metadata": {
        "id": "x1IIKxueTgg_"
      },
      "outputs": [],
      "source": [
        "import torch\n",
        "import numpy as np\n",
        "from torch.utils.data import Dataset, DataLoader\n",
        "from torchvision import transforms\n",
        "import pandas as pd\n",
        "from PIL import Image\n",
        "import os\n",
        "import copy\n",
        "import pickle\n",
        "from sklearn.svm import SVC\n",
        "import sklearn.metrics as metrics\n",
        "from sklearn.metrics import accuracy_score\n",
        "from sklearn.metrics import balanced_accuracy_score\n",
        "from sklearn.metrics import confusion_matrix\n"
      ]
    },
    {
      "cell_type": "code",
      "source": [
        "with open('/content/svm_20230407-222019.pickle','rb') as f:\n",
        "  clf = pickle.load(f)\n",
        "\n",
        "with open('/content/svm_feature_20230407-222019.pickle','rb') as f:\n",
        "  feature_dict = pickle.load(f)"
      ],
      "metadata": {
        "id": "8PIn5qYQTr2A",
        "colab": {
          "base_uri": "https://localhost:8080/"
        },
        "outputId": "514e2323-1313-4de2-cd2f-c6628578eaee"
      },
      "execution_count": 5,
      "outputs": [
        {
          "output_type": "stream",
          "name": "stderr",
          "text": [
            "/usr/local/lib/python3.9/dist-packages/sklearn/base.py:318: UserWarning: Trying to unpickle estimator SVC from version 1.2.0 when using version 1.2.2. This might lead to breaking code or invalid results. Use at your own risk. For more info please refer to:\n",
            "https://scikit-learn.org/stable/model_persistence.html#security-maintainability-limitations\n",
            "  warnings.warn(\n"
          ]
        }
      ]
    },
    {
      "cell_type": "code",
      "source": [
        "train_features = feature_dict['train_features']\n",
        "train_labels = feature_dict['train_labels']\n",
        "test_features = feature_dict['test_features']\n",
        "test_labels = feature_dict['test_labels']\n",
        "\n",
        "svm = SVC(kernel='linear') # use sigmoid, rbf, poly will result in prediction number of 0\n",
        "svm.fit(train_features, train_labels)\n",
        "\n",
        "test_predictions = svm.predict(test_features)\n",
        "accuracy = accuracy_score(test_labels, test_predictions)\n",
        "balanced_accuracy = balanced_accuracy_score(test_labels, test_predictions)\n",
        "print(accuracy)\n",
        "print(balanced_accuracy)\n",
        "confusion_matrix(test_labels, test_predictions)"
      ],
      "metadata": {
        "colab": {
          "base_uri": "https://localhost:8080/"
        },
        "id": "zCNV7NTRkrgM",
        "outputId": "0e1548f9-6128-4027-e9a5-b0c328c57751"
      },
      "execution_count": 56,
      "outputs": [
        {
          "output_type": "stream",
          "name": "stdout",
          "text": [
            "0.4233128834355828\n",
            "0.36754549214226634\n"
          ]
        },
        {
          "output_type": "execute_result",
          "data": {
            "text/plain": [
              "array([[21, 27,  4],\n",
              "       [30, 43,  7],\n",
              "       [11, 15,  5]])"
            ]
          },
          "metadata": {},
          "execution_count": 56
        }
      ]
    },
    {
      "cell_type": "code",
      "source": [
        "def get_stats(predictions, labels, num_classes):\n",
        "  recalls = []\n",
        "\n",
        "  TP = np.zeros(3)\n",
        "  TN = np.zeros(3)\n",
        "  FP = np.zeros(3)\n",
        "  FN = np.zeros(3)\n",
        "\n",
        "  for i in range(num_classes):\n",
        "    y_true = labels == i\n",
        "    y_pred = predictions == i\n",
        "\n",
        "    TN[i], FP[i], FN[i], TP[i] = confusion_matrix(y_true, y_pred).ravel()\n",
        "\n",
        "  return TP, TN, FP, FN\n",
        "\n",
        "def get_eval(TP, TN, FP, FN, num_classes):\n",
        "  macro_avg_precision = 0\n",
        "  macro_avg_sensitivity = 0\n",
        "  macro_avg_f1 = 0\n",
        "  macro_avg_specification = 0\n",
        "  \n",
        "  \n",
        "  for i in range(num_classes):\n",
        "    macro_avg_precision += TP[i] / (TP[i] + FP[i])\n",
        "    macro_avg_sensitivity += TP[i] / (TP[i] + FN[i])\n",
        "    macro_avg_specification += TN[i] / (FP[i] + TN[i])\n",
        "\n",
        "  macro_avg_precision /= num_classes\n",
        "  macro_avg_sensitivity /= num_classes\n",
        "  macro_avg_specification /= num_classes\n",
        "\n",
        "  macro_avg_f1 = 2 * (macro_avg_precision * macro_avg_sensitivity) / (macro_avg_precision + macro_avg_sensitivity)\n",
        "\n",
        "  return macro_avg_precision, macro_avg_sensitivity, macro_avg_specification, macro_avg_f1"
      ],
      "metadata": {
        "id": "Okx1kzDTZQat"
      },
      "execution_count": 57,
      "outputs": []
    },
    {
      "cell_type": "code",
      "source": [
        "TP, TN, FP, FN = get_stats(test_predictions, test_labels, 3)\n",
        "macro_avg_precision, macro_avg_sensitivity, macro_avg_specification, macro_avg_f1 = get_eval(TP, TN, FP, FN, 3)\n",
        "print('macro_avg_precision: ', macro_avg_precision)\n",
        "print('macro_avg_sensitivity: ', macro_avg_sensitivity)\n",
        "print('macro_avg_specification: ', macro_avg_specification)\n",
        "print('macro_avg_f1: ', macro_avg_f1)"
      ],
      "metadata": {
        "colab": {
          "base_uri": "https://localhost:8080/"
        },
        "id": "kf_ayrCYjYdf",
        "outputId": "784e0a1c-5333-48f2-9cb5-a45a5ba1d353"
      },
      "execution_count": 58,
      "outputs": [
        {
          "output_type": "stream",
          "name": "stdout",
          "text": [
            "macro_avg_precision:  0.3856973434535104\n",
            "macro_avg_sensitivity:  0.36754549214226634\n",
            "macro_avg_specification:  0.6804244003039184\n",
            "macro_avg_f1:  0.376402703665835\n"
          ]
        }
      ]
    },
    {
      "cell_type": "code",
      "source": [
        "resnet18 = torch.load('/content/restnet18_20230408-005105.pth')\n",
        "resnet_log = open('/content/restnet18_20230408-005105.log', \"r\")"
      ],
      "metadata": {
        "id": "lK_nPQaKWljO"
      },
      "execution_count": 7,
      "outputs": []
    }
  ]
}