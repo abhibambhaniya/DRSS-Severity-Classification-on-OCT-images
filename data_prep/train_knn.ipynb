{
 "cells": [
  {
   "cell_type": "code",
   "execution_count": 3,
   "metadata": {},
   "outputs": [],
   "source": [
    "import torch\n",
    "from sklearn.neighbors import KNeighborsClassifier\n",
    "\n",
    "from sklearn.metrics import accuracy_score, balanced_accuracy_score\n",
    "\n",
    "import dataloader\n",
    "\n",
    "import pandas as pd\n",
    "from PIL import Image\n",
    "import argparse\n",
    "import os\n",
    "import copy\n",
    "import time\n",
    "import pickle\n",
    "import argparse\n",
    "\n",
    "from tqdm import tqdm\n",
    "import numpy as np"
   ]
  },
  {
   "cell_type": "code",
   "execution_count": 2,
   "metadata": {},
   "outputs": [
    {
     "name": "stdout",
     "output_type": "stream",
     "text": [
      "cuda\n"
     ]
    }
   ],
   "source": [
    "def parse_args():\n",
    "    parser = argparse.ArgumentParser()\n",
    "    parser.add_argument('--model', type = str, default = 'maxvit')\n",
    "    parser.add_argument('--annot_train_prime', type = str, default = 'df_prime_train_features.csv')\n",
    "    parser.add_argument('--annot_test_prime', type = str, default = 'df_prime_test_features.csv')\n",
    "    parser.add_argument('--data_root', type = str, default = '/usr/scratch/abhimanyu/courses/ECE8803_FML/OLIVES')\n",
    "    parser.add_argument('--data_aug', type =int, default = 1)\n",
    "    parser.add_argument('--lr', type = float, default = 5e-4)\n",
    "    parser.add_argument('--weight_decay', type = float, default = 0.1)\n",
    "    parser.add_argument('--momentum', type = float, default = 0.9)\n",
    "    parser.add_argument('--epoch', type = int, default = 50)\n",
    "    parser.add_argument('--batch_size', type = int, default = 1000)\n",
    "    parser.add_argument('--save_pth', type = str, default = '/storage/home/hpaceice1/abambhaniya3/DRSS-Severity-Classification-on-OCT-images/VIT_model_checkpoints/')\n",
    "    parser.add_argument('--load_checkpoint', type = str, default = None)\n",
    "    parser.add_argument(\"--lr-warmup-epochs\", default=5, type=int, help=\"the number of epochs to warmup (default: 5)\")\n",
    "    parser.add_argument(\"--lr-min\", default=1e-5, type=float, help=\"minimum lr of lr schedule (default: 1e-5)\")\n",
    "    # Mixed precision training parameters\n",
    "    parser.add_argument(\"--amp\", action=\"store_true\", help=\"Use torch.cuda.amp for mixed precision training\")\n",
    "    parser.add_argument(\"--lr_scheduler\", type=bool, default = False, help=\"Wethear to turn of LR scheduling or not \") \n",
    "    parser.add_argument(\"--do_batch\", type=int, default = 1, help=\"Wethear to do batching \") \n",
    "    \n",
    "    return parser.parse_known_args()\n",
    "\n",
    "\n",
    "if __name__ == '__main__':\n",
    "    # Set device\n",
    "    device = torch.device('cuda' if torch.cuda.is_available() else 'cpu')\n",
    "    print(device)\n",
    "    args, unkown = parse_args()"
   ]
  },
  {
   "cell_type": "code",
   "execution_count": 37,
   "metadata": {},
   "outputs": [],
   "source": [
    "def knn_dataloader(args, file = 'df_prime_train_features.csv'):\n",
    "    LABELS_Severity = {35: 0,\n",
    "                    43: 0,\n",
    "                    47: 1,\n",
    "                    53: 1,\n",
    "                    61: 2,\n",
    "                    65: 2,\n",
    "                    71: 2,\n",
    "                    85: 2}\n",
    "\n",
    "\n",
    "    annot = pd.read_csv(file)\n",
    "    annot['Severity_Label'] = [LABELS_Severity[drss] for drss in copy.deepcopy(annot['DRSS'].values)]\n",
    "    # root = os.path.expanduser(args.data_root)\n",
    "    # nb_classes=len(np.unique(list(LABELS_Severity.values())))\n",
    "    path_list = annot['Volume_ID'].values\n",
    "\n",
    "    labels = annot['Severity_Label'].values.reshape(-1,1)\n",
    "    # print(labels)\n",
    "    # assert len(path_list) == len(labels)\n",
    "    root = os.path.expanduser(args.data_root)\n",
    "\n",
    "    # get features\n",
    "    # img_volume = np.zeros((len(labels), 49, 224*224), dtype=object)\n",
    "    #img_volume.fill([])\n",
    "    # features = np.zeros((len(labels), 49))\n",
    "    img_volume = []\n",
    "\n",
    "    # for index in range(200):\n",
    "    for index in range(len(path_list)):\n",
    "        # img_volume[index] = []\n",
    "        frames = []\n",
    "        folder_path = root + path_list[index]\n",
    "\n",
    "        # if index%10 == 0  :\n",
    "            # print(f\"Completed {index} images\")\n",
    "        \n",
    "        starting_frame = 10\n",
    "        for i in range(10, 39): \n",
    "            tif = str(i) + '.tif'\n",
    "            png = str(i) + '.png'\n",
    "            \n",
    "            if (os.path.isfile(os.path.join(folder_path, tif))):\n",
    "                img = Image.open(os.path.join(folder_path, tif)).convert(\"L\")\n",
    "            elif (os.path.isfile(os.path.join(folder_path, png))):\n",
    "                img = Image.open(os.path.join(folder_path, png)).convert(\"L\")\n",
    "            else:\n",
    "                img = frames[i -starting_frame - 1]\n",
    "                frames.append(frames[i -starting_frame - 1])\n",
    "                continue\n",
    "            frames.append(np.asarray(img))\n",
    "\n",
    "\n",
    "        img_volume.append(np.array(frames))\n",
    "\n",
    "    print(np.shape(img_volume))\n",
    "    img_volume =np.reshape(img_volume,(len(img_volume), -1)) \n",
    "    # ret = img_volume.reshape((len(img_volume), -1))\n",
    "    print(np.shape(labels))\n",
    "\n",
    "    return img_volume, labels"
   ]
  },
  {
   "cell_type": "code",
   "execution_count": 38,
   "metadata": {},
   "outputs": [
    {
     "name": "stdout",
     "output_type": "stream",
     "text": [
      "(495, 29, 496, 504)\n",
      "(495, 1)\n",
      "(163, 29, 496, 504)\n",
      "(163, 1)\n"
     ]
    },
    {
     "name": "stderr",
     "output_type": "stream",
     "text": [
      "/usr/scratch/abhimanyu/work/miniconda3/lib/python3.9/site-packages/sklearn/neighbors/_classification.py:207: DataConversionWarning: A column-vector y was passed when a 1d array was expected. Please change the shape of y to (n_samples,), for example using ravel().\n",
      "  return self._fit(X, y)\n"
     ]
    },
    {
     "name": "stdout",
     "output_type": "stream",
     "text": [
      "Accuracy: 0.3436\n"
     ]
    }
   ],
   "source": [
    "# Load your 3D image dataset\n",
    "# Assuming your dataset is loaded into a PyTorch tensor called `data` with shape (num_samples, num_features)\n",
    "# and the corresponding labels are loaded into a PyTorch tensor called `labels` with shape (num_samples,)\n",
    "\n",
    "# Split the dataset into training and testing sets\n",
    "X_train, y_train = knn_dataloader(args, args.annot_train_prime )\n",
    "X_test, y_test = knn_dataloader(args, args.annot_test_prime ) \n"
   ]
  },
  {
   "cell_type": "code",
   "execution_count": null,
   "metadata": {},
   "outputs": [],
   "source": [
    "# Create and train KNN classifier\n",
    "k = 3  # Number of neighbors\n",
    "clf = KNeighborsClassifier(n_neighbors=k)\n",
    "clf.fit(X_train, y_train)\n",
    "\n",
    "# Predict on test data\n",
    "y_pred = clf.predict(X_test)\n",
    "\n",
    "# Calculate accuracy\n",
    "accuracy = accuracy_score(y_test, y_pred)\n",
    "print(f\"Accuracy: {accuracy:.4f}\")"
   ]
  },
  {
   "cell_type": "code",
   "execution_count": null,
   "metadata": {},
   "outputs": [],
   "source": [
    "# Create and train KNN classifier\n",
    "k = 5  # Number of neighbors\n",
    "clf = KNeighborsClassifier(n_neighbors=k)\n",
    "clf.fit(X_train, y_train)\n",
    "\n",
    "# Predict on test data\n",
    "y_pred_3 = clf.predict(X_test)\n",
    "\n",
    "# Calculate accuracy\n",
    "accuracy = accuracy_score(y_test, y_pred_3)\n",
    "balanced_accuracy = balanced_accuracy_score(y_test,y_pred_3)\n",
    "print(f\"Accuracy: {accuracy:.4f}, Balanced Accuracy: {balanced_accuracy:.4f}\")"
   ]
  },
  {
   "cell_type": "code",
   "execution_count": null,
   "metadata": {},
   "outputs": [],
   "source": [
    "# Create and train KNN classifier\n",
    "k = 7  # Number of neighbors\n",
    "clf = KNeighborsClassifier(n_neighbors=k)\n",
    "clf.fit(X_train, y_train)\n",
    "\n",
    "# Predict on test data\n",
    "y_pred_3 = clf.predict(X_test)\n",
    "\n",
    "# Calculate accuracy\n",
    "accuracy = accuracy_score(y_test, y_pred_3)\n",
    "balanced_accuracy = balanced_accuracy_score(y_test,y_pred_3)\n",
    "print(f\"Accuracy: {accuracy:.4f}, Balanced Accuracy: {balanced_accuracy:.4f}\")"
   ]
  },
  {
   "cell_type": "code",
   "execution_count": null,
   "metadata": {},
   "outputs": [],
   "source": [
    "# Create and train KNN classifier\n",
    "k = 9  # Number of neighbors\n",
    "clf = KNeighborsClassifier(n_neighbors=k)\n",
    "clf.fit(X_train, y_train)\n",
    "\n",
    "# Predict on test data\n",
    "y_pred_3 = clf.predict(X_test)\n",
    "\n",
    "# Calculate accuracy\n",
    "accuracy = accuracy_score(y_test, y_pred_3)\n",
    "balanced_accuracy = balanced_accuracy_score(y_test,y_pred_3)\n",
    "print(f\"Accuracy: {accuracy:.4f}, Balanced Accuracy: {balanced_accuracy:.4f}\")"
   ]
  },
  {
   "cell_type": "code",
   "execution_count": null,
   "metadata": {},
   "outputs": [],
   "source": [
    "# Create and train KNN classifier\n",
    "k = 11  # Number of neighbors\n",
    "clf = KNeighborsClassifier(n_neighbors=k)\n",
    "clf.fit(X_train, y_train)\n",
    "\n",
    "# Predict on test data\n",
    "y_pred_3 = clf.predict(X_test)\n",
    "\n",
    "# Calculate accuracy\n",
    "accuracy = accuracy_score(y_test, y_pred_3)\n",
    "balanced_accuracy = balanced_accuracy_score(y_test,y_pred_3)\n",
    "print(f\"Accuracy: {accuracy:.4f}, Balanced Accuracy: {balanced_accuracy:.4f}\")"
   ]
  },
  {
   "cell_type": "code",
   "execution_count": null,
   "metadata": {},
   "outputs": [],
   "source": [
    "# Create and train KNN classifier\n",
    "k = 15  # Number of neighbors\n",
    "clf = KNeighborsClassifier(n_neighbors=k)\n",
    "clf.fit(X_train, y_train)\n",
    "\n",
    "# Predict on test data\n",
    "y_pred_3 = clf.predict(X_test)\n",
    "\n",
    "# Calculate accuracy\n",
    "accuracy = accuracy_score(y_test, y_pred_3)\n",
    "balanced_accuracy = balanced_accuracy_score(y_test,y_pred_3)\n",
    "print(f\"Accuracy: {accuracy:.4f}, Balanced Accuracy: {balanced_accuracy:.4f}\")"
   ]
  }
 ],
 "metadata": {
  "kernelspec": {
   "display_name": "base",
   "language": "python",
   "name": "python3"
  },
  "language_info": {
   "codemirror_mode": {
    "name": "ipython",
    "version": 3
   },
   "file_extension": ".py",
   "mimetype": "text/x-python",
   "name": "python",
   "nbconvert_exporter": "python",
   "pygments_lexer": "ipython3",
   "version": "3.9.15"
  },
  "orig_nbformat": 4
 },
 "nbformat": 4,
 "nbformat_minor": 2
}
