{
 "cells": [
  {
   "cell_type": "code",
   "execution_count": 1,
   "metadata": {},
   "outputs": [
    {
     "name": "stderr",
     "output_type": "stream",
     "text": [
      "/usr/scratch/abhimanyu/work/miniconda3/lib/python3.9/site-packages/tqdm/auto.py:22: TqdmWarning: IProgress not found. Please update jupyter and ipywidgets. See https://ipywidgets.readthedocs.io/en/stable/user_install.html\n",
      "  from .autonotebook import tqdm as notebook_tqdm\n"
     ]
    }
   ],
   "source": [
    "import torch\n",
    "import torch.nn as nn\n",
    "import torch.optim as optim\n",
    "import torchvision.transforms as transforms\n",
    "\n",
    "\n",
    "from torchvision.models import vit_b_16\n",
    "from torch.utils.tensorboard import SummaryWriter\n",
    "from tqdm import tqdm\n",
    "import time\n",
    "\n",
    "import argparse\n",
    "import os\n",
    "import copy\n",
    "import dataloader\n"
   ]
  },
  {
   "cell_type": "code",
   "execution_count": 8,
   "metadata": {},
   "outputs": [],
   "source": [
    "def parse_args():\n",
    "    parser = argparse.ArgumentParser()\n",
    "    parser.add_argument('--annot_train_prime', type = str, default = 'df_prime_train.csv')\n",
    "    parser.add_argument('--annot_test_prime', type = str, default = 'df_prime_test.csv')\n",
    "    parser.add_argument('--data_root', type = str, default = '/usr/scratch/abhimanyu/courses/ECE8803_FML/OLIVES/Prime_FULL')\n",
    "    parser.add_argument('--lr', type = int, default = 0.001)\n",
    "    parser.add_argument('--momentum', type = int, default = 0.9)\n",
    "    parser.add_argument('--epoch', type = int, default = 50)\n",
    "    parser.add_argument('--batch_size', type = int, default = 5)\n",
    "    parser.add_argument('--save_pth', type = str, default = '/usr/scratch/yangyu/FML_Model/vit')\n",
    "  \n",
    "\n",
    "    return parser.parse_known_args()"
   ]
  },
  {
   "cell_type": "code",
   "execution_count": 9,
   "metadata": {},
   "outputs": [],
   "source": [
    "\n",
    "# Set device\n",
    "device = torch.device('cuda' if torch.cuda.is_available() else 'cpu')\n",
    "\n",
    "args, unkown = parse_args()\n",
    "# Define transform\n",
    "timestr = time.strftime(\"%Y%m%d-%H%M%S\")\n",
    "base_name = \"restnet18_\" + timestr + \".pth\" \n",
    "name = os.path.join(args.save_pth, base_name)\n",
    "args.save_pth = os.path.abspath(name)\n",
    "\n",
    "# # Load dataset\n",
    "# train_dataset = datasets.ImageFolder(root='path_to_train_folder', transform=transform)\n",
    "# test_dataset = datasets.ImageFolder(root='path_to_test_folder', transform=transform)\n",
    "\n",
    "# # Define dataloader\n",
    "batched_trainset, batched_testset = dataloader.dataloader(args, 'ResNet') \n"
   ]
  },
  {
   "cell_type": "code",
   "execution_count": 10,
   "metadata": {},
   "outputs": [
    {
     "name": "stdout",
     "output_type": "stream",
     "text": [
      "4851 1598\n"
     ]
    }
   ],
   "source": [
    "print(len(batched_trainset), len(batched_testset))"
   ]
  },
  {
   "cell_type": "code",
   "execution_count": 19,
   "metadata": {},
   "outputs": [
    {
     "name": "stderr",
     "output_type": "stream",
     "text": [
      "2023-03-20 18:26:44.742112: I tensorflow/core/platform/cpu_feature_guard.cc:193] This TensorFlow binary is optimized with oneAPI Deep Neural Network Library (oneDNN) to use the following CPU instructions in performance-critical operations:  AVX2 AVX512F FMA\n",
      "To enable them in other operations, rebuild TensorFlow with the appropriate compiler flags.\n",
      "2023-03-20 18:26:49.298861: E tensorflow/stream_executor/cuda/cuda_blas.cc:2981] Unable to register cuBLAS factory: Attempting to register factory for plugin cuBLAS when one has already been registered\n"
     ]
    }
   ],
   "source": [
    "# Define model\n",
    "model = vit_b_16().to(device)\n",
    "\n",
    "# Define optimizer and loss function\n",
    "optimizer = optim.Adam(model.parameters(), lr=1e-4)\n",
    "criterion = nn.CrossEntropyLoss()\n",
    "\n",
    "# Tensorboard Writer\n",
    "writer = SummaryWriter('path_to_tensorboard_logs')\n",
    "\n",
    "# Train model\n",
    "num_epochs = 10\n",
    "for epoch in range(num_epochs):\n",
    "    running_loss = 0.0\n",
    "    correct_predictions = 0.0\n",
    "    total_predictions = 0.0\n",
    "    start_time = time.time()\n",
    "\n",
    "    for images, labels in tqdm(batched_trainset, desc=f\"Epoch {epoch+1}/{num_epochs}\"):\n",
    "        images = images.to(device)\n",
    "        labels = labels.to(device)\n",
    "\n",
    "        # Forward pass\n",
    "        outputs = model(images)\n",
    "        loss = criterion(outputs, labels)\n",
    "\n",
    "        # Backward pass\n",
    "        optimizer.zero_grad()\n",
    "        loss.backward()\n",
    "        optimizer.step()\n",
    "\n",
    "        # Record training loss and accuracy\n",
    "        running_loss += loss.item()\n",
    "        _, predicted = torch.max(outputs.data, 1)\n",
    "        total_predictions += labels.size(0)\n",
    "        correct_predictions += (predicted == labels).sum().item()\n",
    "\n",
    "    # Evaluate model on test data\n",
    "    test_loss = 0.0\n",
    "    test_correct_predictions = 0.0\n",
    "    test_total_predictions = 0.0\n",
    "    with torch.no_grad():\n",
    "        for images, labels in batched_testset:\n",
    "            images = images.to(device)\n",
    "            labels = labels.to(device)\n",
    "\n",
    "            # Forward pass\n",
    "            outputs = model(images)\n",
    "            loss = criterion(outputs, labels)\n",
    "\n",
    "            # Record test loss and accuracy\n",
    "            test_loss += loss.item()\n",
    "            _, predicted = torch.max(outputs.data, 1)\n",
    "            test_total_predictions += labels.size(0)\n",
    "            test_correct_predictions += (predicted == labels).sum().item()\n",
    "\n",
    "    # Print statistics and add to Tensorboard\n",
    "    end_time = time.time()\n",
    "    epoch_time = end_time - start_time\n",
    "    train_loss = running_loss / len(batched_trainset)\n",
    "    train_accuracy = correct_predictions / total_predictions\n",
    "    test_loss /= len(batched_testset)\n",
    "    test_accuracy = test_correct_predictions"
   ]
  },
  {
   "cell_type": "code",
   "execution_count": null,
   "metadata": {},
   "outputs": [],
   "source": []
  }
 ],
 "metadata": {
  "kernelspec": {
   "display_name": "base",
   "language": "python",
   "name": "python3"
  },
  "language_info": {
   "codemirror_mode": {
    "name": "ipython",
    "version": 3
   },
   "file_extension": ".py",
   "mimetype": "text/x-python",
   "name": "python",
   "nbconvert_exporter": "python",
   "pygments_lexer": "ipython3",
   "version": "3.9.15"
  },
  "orig_nbformat": 4
 },
 "nbformat": 4,
 "nbformat_minor": 2
}
