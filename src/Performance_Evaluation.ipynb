{
 "cells": [
  {
   "cell_type": "markdown",
   "metadata": {},
   "source": [
    "### This is the notebook that help use evaluate the performance from the result we are getting including precision, sensitivity, etc."
   ]
  },
  {
   "cell_type": "code",
   "execution_count": 2,
   "metadata": {
    "id": "x1IIKxueTgg_"
   },
   "outputs": [],
   "source": [
    "import torch\n",
    "import numpy as np\n",
    "from torch.utils.data import Dataset, DataLoader\n",
    "from torchvision import transforms\n",
    "import pandas as pd\n",
    "from PIL import Image\n",
    "import os\n",
    "import copy\n",
    "import pickle\n",
    "from sklearn.svm import SVC\n",
    "import sklearn.metrics as metrics\n",
    "from sklearn.metrics import accuracy_score\n",
    "from sklearn.metrics import balanced_accuracy_score\n",
    "from sklearn.metrics import confusion_matrix\n"
   ]
  },
  {
   "cell_type": "code",
   "execution_count": 5,
   "metadata": {
    "colab": {
     "base_uri": "https://localhost:8080/"
    },
    "id": "8PIn5qYQTr2A",
    "outputId": "514e2323-1313-4de2-cd2f-c6628578eaee"
   },
   "outputs": [],
   "source": [
    "with open('../models/SVM/svm_20230412-163717.pickle','rb') as f:\n",
    "  clf = pickle.load(f)\n",
    "\n",
    "with open('../models/SVM/svm_feature_20230412-163717.pickle','rb') as f:\n",
    "  feature_dict = pickle.load(f)"
   ]
  },
  {
   "cell_type": "code",
   "execution_count": 6,
   "metadata": {
    "colab": {
     "base_uri": "https://localhost:8080/"
    },
    "id": "zCNV7NTRkrgM",
    "outputId": "0e1548f9-6128-4027-e9a5-b0c328c57751"
   },
   "outputs": [
    {
     "name": "stdout",
     "output_type": "stream",
     "text": [
      "0.4233128834355828\n",
      "0.36754549214226634\n"
     ]
    },
    {
     "data": {
      "text/plain": [
       "array([[21, 27,  4],\n",
       "       [30, 43,  7],\n",
       "       [11, 15,  5]])"
      ]
     },
     "execution_count": 6,
     "metadata": {},
     "output_type": "execute_result"
    }
   ],
   "source": [
    "train_features = feature_dict['train_features']\n",
    "train_labels = feature_dict['train_labels']\n",
    "test_features = feature_dict['test_features']\n",
    "test_labels = feature_dict['test_labels']\n",
    "\n",
    "svm = SVC(kernel='linear') # use sigmoid, rbf, poly will result in prediction number of 0\n",
    "svm.fit(train_features, train_labels)\n",
    "\n",
    "test_predictions = svm.predict(test_features)\n",
    "accuracy = accuracy_score(test_labels, test_predictions)\n",
    "balanced_accuracy = balanced_accuracy_score(test_labels, test_predictions)\n",
    "print(accuracy)\n",
    "print(balanced_accuracy)\n",
    "confusion_matrix(test_labels, test_predictions)"
   ]
  },
  {
   "cell_type": "code",
   "execution_count": 7,
   "metadata": {
    "id": "Okx1kzDTZQat"
   },
   "outputs": [],
   "source": [
    "def get_stats(predictions, labels, num_classes):\n",
    "  recalls = []\n",
    "\n",
    "  TP = np.zeros(3)\n",
    "  TN = np.zeros(3)\n",
    "  FP = np.zeros(3)\n",
    "  FN = np.zeros(3)\n",
    "\n",
    "  for i in range(num_classes):\n",
    "    y_true = labels == i\n",
    "    y_pred = predictions == i\n",
    "\n",
    "    TN[i], FP[i], FN[i], TP[i] = confusion_matrix(y_true, y_pred).ravel()\n",
    "\n",
    "  return TP, TN, FP, FN\n",
    "\n",
    "def get_eval(TP, TN, FP, FN, num_classes):\n",
    "  macro_avg_precision = 0\n",
    "  macro_avg_sensitivity = 0\n",
    "  macro_avg_f1 = 0\n",
    "  macro_avg_specification = 0\n",
    "  \n",
    "  \n",
    "  for i in range(num_classes):\n",
    "    macro_avg_precision += TP[i] / (TP[i] + FP[i])\n",
    "    macro_avg_sensitivity += TP[i] / (TP[i] + FN[i])\n",
    "    macro_avg_specification += TN[i] / (FP[i] + TN[i])\n",
    "\n",
    "  macro_avg_precision /= num_classes\n",
    "  macro_avg_sensitivity /= num_classes\n",
    "  macro_avg_specification /= num_classes\n",
    "\n",
    "  macro_avg_f1 = 2 * (macro_avg_precision * macro_avg_sensitivity) / (macro_avg_precision + macro_avg_sensitivity)\n",
    "\n",
    "  return macro_avg_precision, macro_avg_sensitivity, macro_avg_specification, macro_avg_f1"
   ]
  },
  {
   "cell_type": "code",
   "execution_count": 11,
   "metadata": {
    "colab": {
     "base_uri": "https://localhost:8080/"
    },
    "id": "kf_ayrCYjYdf",
    "outputId": "784e0a1c-5333-48f2-9cb5-a45a5ba1d353"
   },
   "outputs": [
    {
     "name": "stdout",
     "output_type": "stream",
     "text": [
      "macro_avg_precision:  0.3856973434535104\n",
      "macro_avg_sensitivity/recall:  0.36754549214226634\n",
      "macro_avg_specificity:  0.6804244003039184\n",
      "macro_avg_f1:  0.376402703665835\n"
     ]
    }
   ],
   "source": [
    "TP, TN, FP, FN = get_stats(test_predictions, test_labels, 3)\n",
    "macro_avg_precision, macro_avg_sensitivity, macro_avg_specification, macro_avg_f1 = get_eval(TP, TN, FP, FN, 3)\n",
    "print('macro_avg_precision: ', macro_avg_precision)\n",
    "print('macro_avg_sensitivity/recall: ', macro_avg_sensitivity)\n",
    "print('macro_avg_specificity: ', macro_avg_specification)\n",
    "print('macro_avg_f1: ', macro_avg_f1)"
   ]
  },
  {
   "cell_type": "code",
   "execution_count": 12,
   "metadata": {
    "id": "lK_nPQaKWljO"
   },
   "outputs": [],
   "source": [
    "resnet18 = torch.load('../models/ResNet18/restnet18_20230413-165658.pt')\n",
    "resnet_log = open('../models/ResNet18/restnet18_20230413-165658.log', \"r\")\n",
    "\n",
    "with open('../models/ResNet18/restnet18_predictlabel_20230413-165658.pickle','rb') as f:\n",
    "    resnet_prediction = pickle.load(f)"
   ]
  },
  {
   "cell_type": "code",
   "execution_count": 16,
   "metadata": {},
   "outputs": [
    {
     "name": "stdout",
     "output_type": "stream",
     "text": [
      "Test Accuracy:  0.4662576687116564\n",
      "Test Balanced Accuracy:  0.5162737799834575\n",
      "macro_avg_precision:  0.48916605527023727\n",
      "macro_avg_sensitivity/recall:  0.5162737799834575\n",
      "macro_avg_specificity:  0.739061076410474\n",
      "macro_avg_f1:  0.5023544911172929\n"
     ]
    }
   ],
   "source": [
    "test_predictions = np.asarray(resnet_prediction['prediction'])\n",
    "test_labels = np.asarray(resnet_prediction['label'])\n",
    "\n",
    "accuracy = accuracy_score(test_labels, test_predictions)\n",
    "balanced_accuracy = balanced_accuracy_score(test_labels, test_predictions)\n",
    "TP, TN, FP, FN = get_stats(test_predictions, test_labels, 3)\n",
    "macro_avg_precision, macro_avg_sensitivity, macro_avg_specification, macro_avg_f1 = get_eval(TP, TN, FP, FN, 3)\n",
    "print('Test Accuracy: ', accuracy)\n",
    "print('Test Balanced Accuracy: ', balanced_accuracy)\n",
    "print('macro_avg_precision: ', macro_avg_precision)\n",
    "print('macro_avg_sensitivity/recall: ', macro_avg_sensitivity)\n",
    "print('macro_avg_specificity: ', macro_avg_specification)\n",
    "print('macro_avg_f1: ', macro_avg_f1)"
   ]
  }
 ],
 "metadata": {
  "accelerator": "GPU",
  "colab": {
   "provenance": []
  },
  "gpuClass": "standard",
  "kernelspec": {
   "display_name": "Python [conda env:.conda-ece8803]",
   "language": "python",
   "name": "conda-env-.conda-ece8803-py"
  },
  "language_info": {
   "codemirror_mode": {
    "name": "ipython",
    "version": 3
   },
   "file_extension": ".py",
   "mimetype": "text/x-python",
   "name": "python",
   "nbconvert_exporter": "python",
   "pygments_lexer": "ipython3",
   "version": "3.8.16"
  }
 },
 "nbformat": 4,
 "nbformat_minor": 1
}
