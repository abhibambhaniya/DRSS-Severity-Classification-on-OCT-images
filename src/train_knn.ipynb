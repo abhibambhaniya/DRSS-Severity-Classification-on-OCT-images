{
 "cells": [
  {
   "cell_type": "code",
   "execution_count": 1,
   "metadata": {},
   "outputs": [
    {
     "name": "stderr",
     "output_type": "stream",
     "text": [
      "/usr/scratch/abhimanyu/work/miniconda3/lib/python3.9/site-packages/tqdm/auto.py:22: TqdmWarning: IProgress not found. Please update jupyter and ipywidgets. See https://ipywidgets.readthedocs.io/en/stable/user_install.html\n",
      "  from .autonotebook import tqdm as notebook_tqdm\n"
     ]
    }
   ],
   "source": [
    "import torch\n",
    "from sklearn.neighbors import KNeighborsClassifier\n",
    "\n",
    "from sklearn.metrics import accuracy_score, balanced_accuracy_score\n",
    "\n",
    "import pandas as pd\n",
    "from PIL import Image\n",
    "import argparse\n",
    "import os\n",
    "import copy\n",
    "\n",
    "import numpy as np"
   ]
  },
  {
   "cell_type": "code",
   "execution_count": 2,
   "metadata": {},
   "outputs": [
    {
     "name": "stdout",
     "output_type": "stream",
     "text": [
      "cuda\n"
     ]
    }
   ],
   "source": [
    "def parse_args():\n",
    "    parser = argparse.ArgumentParser()\n",
    "    \n",
    "    parser.add_argument('--annot_train_prime', type = str, default = 'df_prime_train_features.csv')\n",
    "    parser.add_argument('--annot_test_prime', type = str, default = 'df_prime_test_features.csv')\n",
    "    parser.add_argument('--data_root', type = str, default = '/usr/scratch/abhimanyu/courses/ECE8803_FML/OLIVES')\n",
    "    parser.add_argument('--data_aug', type =int, default = 1)\n",
    "    \n",
    "    \n",
    "    return parser.parse_known_args()\n",
    "\n",
    "\n",
    "if __name__ == '__main__':\n",
    "    # Set device\n",
    "    device = torch.device('cuda' if torch.cuda.is_available() else 'cpu')\n",
    "    print(device)\n",
    "    args, unkown = parse_args()"
   ]
  },
  {
   "cell_type": "code",
   "execution_count": 15,
   "metadata": {},
   "outputs": [],
   "source": [
    "def knn_dataloader(args, file = 'df_prime_train_features.csv'):\n",
    "    LABELS_Severity = {35: 0,\n",
    "                    43: 0,\n",
    "                    47: 1,\n",
    "                    53: 1,\n",
    "                    61: 2,\n",
    "                    65: 2,\n",
    "                    71: 2,\n",
    "                    85: 2}\n",
    "\n",
    "\n",
    "    annot = pd.read_csv(file)\n",
    "    annot['Severity_Label'] = [LABELS_Severity[drss] for drss in copy.deepcopy(annot['DRSS'].values)]\n",
    "    # root = os.path.expanduser(args.data_root)\n",
    "    # nb_classes=len(np.unique(list(LABELS_Severity.values())))\n",
    "    path_list = annot['Volume_ID'].values\n",
    "\n",
    "    labels = annot['Severity_Label'].values.reshape(-1,1)\n",
    "    # print(labels)\n",
    "    # assert len(path_list) == len(labels)\n",
    "    root = os.path.expanduser(args.data_root)\n",
    "\n",
    "\n",
    "    img_volume = []\n",
    "\n",
    "    for index in range(20):\n",
    "    # for index in range(len(path_list)):\n",
    "        # img_volume[index] = []\n",
    "        frames = []\n",
    "        folder_path = root + path_list[index]\n",
    "\n",
    "        # if index%10 == 0  :\n",
    "            # print(f\"Completed {index} images\")\n",
    "        \n",
    "        starting_frame = 10\n",
    "        for i in range(10, 39): \n",
    "            tif = str(i) + '.tif'\n",
    "            png = str(i) + '.png'\n",
    "            \n",
    "            if (os.path.isfile(os.path.join(folder_path, tif))):\n",
    "                img = Image.open(os.path.join(folder_path, tif)).convert(\"L\")\n",
    "            elif (os.path.isfile(os.path.join(folder_path, png))):\n",
    "                img = Image.open(os.path.join(folder_path, png)).convert(\"L\")\n",
    "            else:\n",
    "                img = frames[i -starting_frame - 1]\n",
    "                frames.append(frames[i -starting_frame - 1])\n",
    "                continue\n",
    "            frames.append(np.asarray(img)[106:224,80:450])\n",
    "\n",
    "\n",
    "        img_volume.append(np.array(frames))\n",
    "\n",
    "    print(np.shape(img_volume))\n",
    "    img_volume =np.reshape(img_volume,(len(img_volume), -1)) \n",
    "    # ret = img_volume.reshape((len(img_volume), -1))\n",
    "    print(np.shape(labels))\n",
    "\n",
    "    return img_volume, labels"
   ]
  },
  {
   "cell_type": "code",
   "execution_count": 16,
   "metadata": {},
   "outputs": [
    {
     "name": "stdout",
     "output_type": "stream",
     "text": [
      "(20, 29, 118, 370)\n",
      "(495, 1)\n",
      "(20, 29, 118, 370)\n",
      "(163, 1)\n"
     ]
    }
   ],
   "source": [
    "# Load your 3D image dataset\n",
    "# Assuming your dataset is loaded into a PyTorch tensor called `data` with shape (num_samples, num_features)\n",
    "# and the corresponding labels are loaded into a PyTorch tensor called `labels` with shape (num_samples,)\n",
    "\n",
    "# Split the dataset into training and testing sets\n",
    "X_train, y_train = knn_dataloader(args, args.annot_train_prime )\n",
    "X_test, y_test = knn_dataloader(args, args.annot_test_prime ) \n"
   ]
  },
  {
   "cell_type": "code",
   "execution_count": null,
   "metadata": {},
   "outputs": [],
   "source": [
    "# Create and train KNN classifier\n",
    "k = 3  # Number of neighbors\n",
    "clf = KNeighborsClassifier(n_neighbors=k)\n",
    "clf.fit(X_train, y_train)\n",
    "\n",
    "# Predict on test data\n",
    "y_pred = clf.predict(X_test)\n",
    "\n",
    "# Calculate accuracy\n",
    "accuracy = accuracy_score(y_test, y_pred)\n",
    "print(f\"Accuracy: {accuracy:.4f}\")"
   ]
  },
  {
   "cell_type": "code",
   "execution_count": null,
   "metadata": {},
   "outputs": [],
   "source": [
    "# Create and train KNN classifier\n",
    "k = 5  # Number of neighbors\n",
    "clf = KNeighborsClassifier(n_neighbors=k)\n",
    "clf.fit(X_train, y_train)\n",
    "\n",
    "# Predict on test data\n",
    "y_pred_3 = clf.predict(X_test)\n",
    "\n",
    "# Calculate accuracy\n",
    "accuracy = accuracy_score(y_test, y_pred_3)\n",
    "balanced_accuracy = balanced_accuracy_score(y_test,y_pred_3)\n",
    "print(f\"Accuracy: {accuracy:.4f}, Balanced Accuracy: {balanced_accuracy:.4f}\")"
   ]
  },
  {
   "cell_type": "code",
   "execution_count": null,
   "metadata": {},
   "outputs": [],
   "source": [
    "# Create and train KNN classifier\n",
    "k = 7  # Number of neighbors\n",
    "clf = KNeighborsClassifier(n_neighbors=k)\n",
    "clf.fit(X_train, y_train)\n",
    "\n",
    "# Predict on test data\n",
    "y_pred_3 = clf.predict(X_test)\n",
    "\n",
    "# Calculate accuracy\n",
    "accuracy = accuracy_score(y_test, y_pred_3)\n",
    "balanced_accuracy = balanced_accuracy_score(y_test,y_pred_3)\n",
    "print(f\"Accuracy: {accuracy:.4f}, Balanced Accuracy: {balanced_accuracy:.4f}\")"
   ]
  },
  {
   "cell_type": "code",
   "execution_count": null,
   "metadata": {},
   "outputs": [],
   "source": [
    "# Create and train KNN classifier\n",
    "k = 9  # Number of neighbors\n",
    "clf = KNeighborsClassifier(n_neighbors=k)\n",
    "clf.fit(X_train, y_train)\n",
    "\n",
    "# Predict on test data\n",
    "y_pred_3 = clf.predict(X_test)\n",
    "\n",
    "# Calculate accuracy\n",
    "accuracy = accuracy_score(y_test, y_pred_3)\n",
    "balanced_accuracy = balanced_accuracy_score(y_test,y_pred_3)\n",
    "print(f\"Accuracy: {accuracy:.4f}, Balanced Accuracy: {balanced_accuracy:.4f}\")"
   ]
  },
  {
   "cell_type": "code",
   "execution_count": null,
   "metadata": {},
   "outputs": [],
   "source": [
    "# Create and train KNN classifier\n",
    "k = 11  # Number of neighbors\n",
    "clf = KNeighborsClassifier(n_neighbors=k)\n",
    "clf.fit(X_train, y_train)\n",
    "\n",
    "# Predict on test data\n",
    "y_pred_3 = clf.predict(X_test)\n",
    "\n",
    "# Calculate accuracy\n",
    "accuracy = accuracy_score(y_test, y_pred_3)\n",
    "balanced_accuracy = balanced_accuracy_score(y_test,y_pred_3)\n",
    "print(f\"Accuracy: {accuracy:.4f}, Balanced Accuracy: {balanced_accuracy:.4f}\")"
   ]
  },
  {
   "cell_type": "code",
   "execution_count": null,
   "metadata": {},
   "outputs": [],
   "source": [
    "# Create and train KNN classifier\n",
    "k = 15  # Number of neighbors\n",
    "clf = KNeighborsClassifier(n_neighbors=k)\n",
    "clf.fit(X_train, y_train)\n",
    "\n",
    "# Predict on test data\n",
    "y_pred_3 = clf.predict(X_test)\n",
    "\n",
    "# Calculate accuracy\n",
    "accuracy = accuracy_score(y_test, y_pred_3)\n",
    "balanced_accuracy = balanced_accuracy_score(y_test,y_pred_3)\n",
    "print(f\"Accuracy: {accuracy:.4f}, Balanced Accuracy: {balanced_accuracy:.4f}\")"
   ]
  }
 ],
 "metadata": {
  "kernelspec": {
   "display_name": "base",
   "language": "python",
   "name": "python3"
  },
  "language_info": {
   "codemirror_mode": {
    "name": "ipython",
    "version": 3
   },
   "file_extension": ".py",
   "mimetype": "text/x-python",
   "name": "python",
   "nbconvert_exporter": "python",
   "pygments_lexer": "ipython3",
   "version": "3.9.15"
  },
  "orig_nbformat": 4
 },
 "nbformat": 4,
 "nbformat_minor": 2
}
